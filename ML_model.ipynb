{
  "cells": [
    {
      "cell_type": "code",
      "execution_count": null,
      "metadata": {
        "id": "0NY4M6bZrnDd"
      },
      "outputs": [],
      "source": [
        "import numpy as np\n",
        "import keras\n",
        "from keras.datasets import mnist\n",
        "import tensorflow as tf"
      ]
    },
    {
      "cell_type": "code",
      "execution_count": null,
      "metadata": {
        "id": "hO9Rh9jJuiA1"
      },
      "outputs": [],
      "source": [
        "from keras.models import Sequential\n",
        "from keras.layers import Dense, Dropout, Flatten\n",
        "from keras.layers import Conv2D, MaxPooling2D\n",
        "from keras.regularizers import l2"
      ]
    },
    {
      "cell_type": "code",
      "execution_count": null,
      "metadata": {
        "colab": {
          "base_uri": "https://localhost:8080/"
        },
        "id": "sp2x5GkEvqhq",
        "outputId": "c0922976-eb8b-409f-c147-42296b72be10"
      },
      "outputs": [
        {
          "output_type": "stream",
          "name": "stdout",
          "text": [
            "Downloading data from https://storage.googleapis.com/tensorflow/tf-keras-datasets/mnist.npz\n",
            "11490434/11490434 [==============================] - 1s 0us/step\n"
          ]
        }
      ],
      "source": [
        "(X_train, Y_train), (X_test, Y_test) = mnist.load_data()"
      ]
    },
    {
      "cell_type": "code",
      "execution_count": null,
      "metadata": {
        "id": "dNP-NOtIv-nc"
      },
      "outputs": [],
      "source": [
        "def split(img):\n",
        "  height = img.shape[0]\n",
        "  width = img.shape[1]\n",
        "  w2 = width // 2\n",
        "  left = img[:, :w2]\n",
        "  right = img[:, w2:]\n",
        "  h2 = height//2\n",
        "  topleft = left[:h2, :]\n",
        "  bottomleft = left[h2:, :]\n",
        "  topright = right[:h2, :]\n",
        "  bottomright = right[h2:, :]\n",
        "  return topleft, bottomleft, topright, bottomright"
      ]
    },
    {
      "cell_type": "code",
      "execution_count": null,
      "metadata": {
        "id": "Fe2qGmwllOF6"
      },
      "outputs": [],
      "source": [
        "X_train_tl=[]\n",
        "X_train_bl=[]\n",
        "X_train_tr=[]\n",
        "X_train_br=[]\n",
        "for i in range(len(X_train)):\n",
        "  tl, bl, tr, br = split(X_train[i])\n",
        "  X_train_tl.append(tl)\n",
        "  X_train_bl.append(bl)\n",
        "  X_train_tr.append(tr)\n",
        "  X_train_br.append(br)\n",
        "X_train_tl=np.array(X_train_tl)\n",
        "X_train_bl=np.array(X_train_bl)\n",
        "X_train_tr=np.array(X_train_tr)\n",
        "X_train_br=np.array(X_train_br)"
      ]
    },
    {
      "cell_type": "code",
      "execution_count": null,
      "metadata": {
        "id": "6V7uso9Gn3VM"
      },
      "outputs": [],
      "source": [
        "X_test_tl=[]\n",
        "X_test_bl=[]\n",
        "X_test_tr=[]\n",
        "X_test_br=[]\n",
        "for i in range(len(X_test)):\n",
        "  tl, bl, tr, br = split(X_test[i])\n",
        "  X_test_tl.append(tl)\n",
        "  X_test_bl.append(bl)\n",
        "  X_test_tr.append(tr)\n",
        "  X_test_br.append(br)\n",
        "X_test_tl=np.array(X_test_tl)\n",
        "X_test_bl=np.array(X_test_bl)\n",
        "X_test_tr=np.array(X_test_tr)\n",
        "X_test_br=np.array(X_test_br)"
      ]
    },
    {
      "cell_type": "code",
      "execution_count": null,
      "metadata": {
        "colab": {
          "base_uri": "https://localhost:8080/"
        },
        "id": "FaoXJM9wmbaM",
        "outputId": "2a6db270-204f-46a0-b953-fc90a259b056"
      },
      "outputs": [
        {
          "output_type": "execute_result",
          "data": {
            "text/plain": [
              "(10000, 14, 14)"
            ]
          },
          "metadata": {},
          "execution_count": 7
        }
      ],
      "source": [
        "X_test_br.shape"
      ]
    },
    {
      "cell_type": "code",
      "execution_count": null,
      "metadata": {
        "id": "Rwk2s2H_nJNX"
      },
      "outputs": [],
      "source": [
        "Y_train = keras.utils.to_categorical(Y_train)\n",
        "Y_test = keras.utils.to_categorical(Y_test)"
      ]
    },
    {
      "cell_type": "code",
      "execution_count": null,
      "metadata": {
        "colab": {
          "base_uri": "https://localhost:8080/",
          "height": 608
        },
        "id": "ahKa97Ayxgpp",
        "outputId": "22e31570-358f-474a-c53b-e1c097dd6178"
      },
      "outputs": [
        {
          "output_type": "display_data",
          "data": {
            "text/plain": [
              "<Figure size 1152x720 with 20 Axes>"
            ],
            "image/png": "[encoded data removed]"
          },
          "metadata": {
            "needs_background": "light"
          }
        }
      ],
      "source": [
        "X_train__ = X_train.reshape(X_train.shape[0], 28, 28)\n",
        "import matplotlib.pyplot as plt\n",
        "fig, axes = plt.subplots(ncols=5, nrows=4, figsize=(16, 10))\n",
        "for i in range(5):\n",
        "  digit = Y_train[i].argmax()\n",
        "  axes[0,i].imshow(X_train_tl[i], cmap='binary')\n",
        "  axes[1,i].imshow(X_train_tr[i], cmap='binary')\n",
        "  axes[2,i].imshow(X_train_bl[i], cmap='binary')\n",
        "  axes[3,i].imshow(X_train_br[i], cmap='binary')\n",
        "  axes[0,i].set_title(f\"Real Number is {digit}\")"
      ]
    },
    {
      "cell_type": "code",
      "execution_count": null,
      "metadata": {
        "colab": {
          "base_uri": "https://localhost:8080/"
        },
        "id": "y3q4m1GvxdOY",
        "outputId": "a1605300-fe28-4233-8dd9-6f7dc074efbf"
      },
      "outputs": [
        {
          "output_type": "stream",
          "name": "stdout",
          "text": [
            "X_train shape: (60000, 14, 14, 1)\n",
            "60000 training samples\n",
            "10000 testing samples\n"
          ]
        }
      ],
      "source": [
        "X_train_tr = X_train_tr.reshape(-1,14,14,1)\n",
        "X_test_tr = X_test_tr.reshape(-1,14,14,1)\n",
        "X_train_tr = X_train_tr/255.0\n",
        "X_test_tr = X_test_tr/255.0\n",
        "\n",
        "X_train_tl = X_train_tl.reshape(-1,14,14,1)\n",
        "X_test_tl = X_test_tl.reshape(-1,14,14,1)\n",
        "X_train_tl = X_train_tl/255.0\n",
        "X_test_tl = X_test_tl/255.0\n",
        "\n",
        "X_train_br = X_train_br.reshape(-1,14,14,1)\n",
        "X_test_br = X_test_br.reshape(-1,14,14,1)\n",
        "X_train_br = X_train_br/255.0\n",
        "X_test_br = X_test_br/255.0\n",
        "\n",
        "X_train_bl = X_train_bl.reshape(-1,14,14,1)\n",
        "X_test_bl = X_test_bl.reshape(-1,14,14,1)\n",
        "X_train_bl = X_train_bl/255.0\n",
        "X_test_bl = X_test_bl/255.0\n",
        "print('X_train shape:', X_train_tr.shape)\n",
        "print(X_train_tr.shape[0], 'training samples')\n",
        "print(X_test_tr.shape[0], 'testing samples')"
      ]
    },
    {
      "cell_type": "code",
      "execution_count": null,
      "metadata": {
        "id": "cnQAOIq0OsoQ"
      },
      "outputs": [],
      "source": [
        "model_tl = Sequential()\n",
        "model_tl.add(Conv2D(32, kernel_size=3, activation='relu', input_shape=(14, 14, 1)))\n",
        "model_tl.add(Conv2D(64, kernel_size=3, activation='relu'))\n",
        "model_tl.add(Dropout(0.5))\n",
        "model_tl.add(Flatten())\n",
        "model_tl.add(Dense(10, activation='softmax'))\n",
        "model_tl.compile(optimizer='adam', loss='categorical_crossentropy', metrics=['accuracy'])"
      ]
    },
    {
      "cell_type": "code",
      "execution_count": null,
      "metadata": {
        "colab": {
          "base_uri": "https://localhost:8080/"
        },
        "id": "_5lCCg8A7jHJ",
        "outputId": "0209fa41-c086-4ab7-8c4d-17a60c3ea67e"
      },
      "outputs": [
        {
          "output_type": "stream",
          "name": "stdout",
          "text": [
            "Model: \"sequential\"\n",
            "_________________________________________________________________\n",
            " Layer (type)                Output Shape              Param #   \n",
            "=================================================================\n",
            " conv2d (Conv2D)             (None, 12, 12, 32)        320       \n",
            "                                                                 \n",
            " conv2d_1 (Conv2D)           (None, 10, 10, 64)        18496     \n",
            "                                                                 \n",
            " dropout (Dropout)           (None, 10, 10, 64)        0         \n",
            "                                                                 \n",
            " flatten (Flatten)           (None, 6400)              0         \n",
            "                                                                 \n",
            " dense (Dense)               (None, 10)                64010     \n",
            "                                                                 \n",
            "=================================================================\n",
            "Total params: 82,826\n",
            "Trainable params: 82,826\n",
            "Non-trainable params: 0\n",
            "_________________________________________________________________\n"
          ]
        }
      ],
      "source": [
        "model_tl.summary()"
      ]
    },
    {
      "cell_type": "code",
      "execution_count": null,
      "metadata": {
        "colab": {
          "base_uri": "https://localhost:8080/"
        },
        "id": "7Xiyn86N1Cui",
        "outputId": "250a86a5-69ae-45ce-fca6-f82c85c928dc"
      },
      "outputs": [
        {
          "output_type": "stream",
          "name": "stdout",
          "text": [
            "Epoch 1/20\n",
            "469/469 [==============================] - 41s 81ms/step - loss: 1.0888 - accuracy: 0.6357 - val_loss: 0.7732 - val_accuracy: 0.7382\n",
            "Epoch 2/20\n",
            "469/469 [==============================] - 32s 67ms/step - loss: 0.8132 - accuracy: 0.7232 - val_loss: 0.7055 - val_accuracy: 0.7585\n",
            "Epoch 3/20\n",
            "469/469 [==============================] - 51s 108ms/step - loss: 0.7607 - accuracy: 0.7396 - val_loss: 0.6684 - val_accuracy: 0.7706\n",
            "Epoch 4/20\n",
            "469/469 [==============================] - 34s 72ms/step - loss: 0.7287 - accuracy: 0.7510 - val_loss: 0.6613 - val_accuracy: 0.7695\n",
            "Epoch 5/20\n",
            "469/469 [==============================] - 32s 68ms/step - loss: 0.7072 - accuracy: 0.7585 - val_loss: 0.6350 - val_accuracy: 0.7830\n",
            "Epoch 6/20\n",
            "469/469 [==============================] - 35s 75ms/step - loss: 0.6899 - accuracy: 0.7627 - val_loss: 0.6328 - val_accuracy: 0.7798\n",
            "Epoch 7/20\n",
            "469/469 [==============================] - 31s 67ms/step - loss: 0.6784 - accuracy: 0.7665 - val_loss: 0.6153 - val_accuracy: 0.7890\n",
            "Epoch 8/20\n",
            "469/469 [==============================] - 32s 68ms/step - loss: 0.6670 - accuracy: 0.7713 - val_loss: 0.6075 - val_accuracy: 0.7892\n",
            "Epoch 9/20\n",
            "469/469 [==============================] - 32s 69ms/step - loss: 0.6554 - accuracy: 0.7740 - val_loss: 0.6078 - val_accuracy: 0.7942\n",
            "Epoch 10/20\n",
            "469/469 [==============================] - 32s 68ms/step - loss: 0.6463 - accuracy: 0.7790 - val_loss: 0.6004 - val_accuracy: 0.7935\n",
            "Epoch 11/20\n",
            "469/469 [==============================] - 32s 68ms/step - loss: 0.6400 - accuracy: 0.7803 - val_loss: 0.5912 - val_accuracy: 0.7948\n",
            "Epoch 12/20\n",
            "469/469 [==============================] - 32s 68ms/step - loss: 0.6362 - accuracy: 0.7817 - val_loss: 0.5857 - val_accuracy: 0.7979\n",
            "Epoch 13/20\n",
            "469/469 [==============================] - 34s 73ms/step - loss: 0.6261 - accuracy: 0.7856 - val_loss: 0.5841 - val_accuracy: 0.7973\n",
            "Epoch 14/20\n",
            "469/469 [==============================] - 32s 68ms/step - loss: 0.6200 - accuracy: 0.7874 - val_loss: 0.5934 - val_accuracy: 0.7965\n",
            "Epoch 15/20\n",
            "469/469 [==============================] - 32s 68ms/step - loss: 0.6157 - accuracy: 0.7871 - val_loss: 0.5819 - val_accuracy: 0.7985\n",
            "Epoch 16/20\n",
            "469/469 [==============================] - 32s 68ms/step - loss: 0.6106 - accuracy: 0.7903 - val_loss: 0.5827 - val_accuracy: 0.7944\n",
            "Epoch 17/20\n",
            "469/469 [==============================] - 32s 68ms/step - loss: 0.6076 - accuracy: 0.7907 - val_loss: 0.5792 - val_accuracy: 0.7988\n",
            "Epoch 18/20\n",
            "469/469 [==============================] - 32s 68ms/step - loss: 0.5998 - accuracy: 0.7960 - val_loss: 0.5775 - val_accuracy: 0.8029\n",
            "Epoch 19/20\n",
            "469/469 [==============================] - 33s 71ms/step - loss: 0.5986 - accuracy: 0.7933 - val_loss: 0.5773 - val_accuracy: 0.7977\n",
            "Epoch 20/20\n",
            "469/469 [==============================] - 33s 71ms/step - loss: 0.5957 - accuracy: 0.7946 - val_loss: 0.5689 - val_accuracy: 0.8025\n"
          ]
        },
        {
          "output_type": "execute_result",
          "data": {
            "text/plain": [
              "<keras.callbacks.History at 0x7f56a48b16a0>"
            ]
          },
          "metadata": {},
          "execution_count": 13
        }
      ],
      "source": [
        "model_tl.fit(X_train_tl, Y_train, batch_size=128, epochs=20, verbose=1, validation_data=(X_test_tl, Y_test))"
      ]
    },
    {
      "cell_type": "code",
      "execution_count": null,
      "metadata": {
        "colab": {
          "base_uri": "https://localhost:8080/"
        },
        "id": "7BaWW_VH15aw",
        "outputId": "1db33947-eec4-4d55-f479-efcf55e82332"
      },
      "outputs": [
        {
          "output_type": "stream",
          "name": "stdout",
          "text": [
            "Test loss: 0.5689173340797424\n",
            "Test accuracy: 0.8025000095367432\n"
          ]
        }
      ],
      "source": [
        "score = model_tl.evaluate(X_test_tl, Y_test, verbose=0)\n",
        "print('Test loss:', score[0])\n",
        "print('Test accuracy:', score[1])"
      ]
    },
    {
      "cell_type": "code",
      "execution_count": null,
      "metadata": {
        "colab": {
          "base_uri": "https://localhost:8080/"
        },
        "id": "e-tNCfPECoL0",
        "outputId": "8cb7a23f-d328-4fb4-b8a3-cfc25434dceb"
      },
      "outputs": [
        {
          "output_type": "stream",
          "name": "stdout",
          "text": [
            "Epoch 1/10\n",
            "469/469 [==============================] - 32s 68ms/step - loss: 0.7654 - accuracy: 0.7418 - val_loss: 0.5347 - val_accuracy: 0.8188\n",
            "Epoch 2/10\n",
            "469/469 [==============================] - 32s 67ms/step - loss: 0.5146 - accuracy: 0.8242 - val_loss: 0.4589 - val_accuracy: 0.8463\n",
            "Epoch 3/10\n",
            "469/469 [==============================] - 32s 67ms/step - loss: 0.4653 - accuracy: 0.8383 - val_loss: 0.4309 - val_accuracy: 0.8577\n",
            "Epoch 4/10\n",
            "469/469 [==============================] - 32s 67ms/step - loss: 0.4391 - accuracy: 0.8503 - val_loss: 0.4089 - val_accuracy: 0.8651\n",
            "Epoch 5/10\n",
            "469/469 [==============================] - 31s 67ms/step - loss: 0.4178 - accuracy: 0.8547 - val_loss: 0.3978 - val_accuracy: 0.8669\n",
            "Epoch 6/10\n",
            "469/469 [==============================] - 34s 73ms/step - loss: 0.4012 - accuracy: 0.8623 - val_loss: 0.3919 - val_accuracy: 0.8673\n",
            "Epoch 7/10\n",
            "469/469 [==============================] - 32s 67ms/step - loss: 0.3911 - accuracy: 0.8643 - val_loss: 0.3849 - val_accuracy: 0.8712\n",
            "Epoch 8/10\n",
            "469/469 [==============================] - 31s 67ms/step - loss: 0.3785 - accuracy: 0.8692 - val_loss: 0.3738 - val_accuracy: 0.8750\n",
            "Epoch 9/10\n",
            "469/469 [==============================] - 32s 68ms/step - loss: 0.3708 - accuracy: 0.8712 - val_loss: 0.3751 - val_accuracy: 0.8734\n",
            "Epoch 10/10\n",
            "469/469 [==============================] - 32s 68ms/step - loss: 0.3654 - accuracy: 0.8721 - val_loss: 0.3598 - val_accuracy: 0.8811\n"
          ]
        },
        {
          "output_type": "execute_result",
          "data": {
            "text/plain": [
              "<keras.callbacks.History at 0x7f56a0b49ac0>"
            ]
          },
          "metadata": {},
          "execution_count": 15
        }
      ],
      "source": [
        "model_tr = Sequential()\n",
        "model_tr.add(Conv2D(32, kernel_size=3, activation='relu', input_shape=(14, 14, 1)))\n",
        "model_tr.add(Conv2D(64, kernel_size=3, activation='relu'))\n",
        "model_tr.add(Dropout(0.5))\n",
        "model_tr.add(Flatten())\n",
        "model_tr.add(Dense(10, activation='softmax'))\n",
        "model_tr.compile(optimizer='adam', loss='categorical_crossentropy', metrics=['accuracy'])\n",
        "model_tr.fit(X_train_tr, Y_train, batch_size=128, epochs=10, verbose=1, validation_data=(X_test_tr, Y_test))"
      ]
    },
    {
      "cell_type": "code",
      "execution_count": null,
      "metadata": {
        "colab": {
          "base_uri": "https://localhost:8080/"
        },
        "id": "w499oeIlD8zM",
        "outputId": "4626f103-c62e-43b4-c9c1-71f8217416e8"
      },
      "outputs": [
        {
          "output_type": "stream",
          "name": "stdout",
          "text": [
            "Epoch 1/10\n",
            "469/469 [==============================] - 35s 74ms/step - loss: 0.7747 - accuracy: 0.7308 - val_loss: 0.5373 - val_accuracy: 0.8071\n",
            "Epoch 2/10\n",
            "469/469 [==============================] - 32s 68ms/step - loss: 0.5421 - accuracy: 0.8063 - val_loss: 0.4913 - val_accuracy: 0.8201\n",
            "Epoch 3/10\n",
            "469/469 [==============================] - 32s 68ms/step - loss: 0.4978 - accuracy: 0.8201 - val_loss: 0.4593 - val_accuracy: 0.8319\n",
            "Epoch 4/10\n",
            "469/469 [==============================] - 32s 68ms/step - loss: 0.4716 - accuracy: 0.8273 - val_loss: 0.4455 - val_accuracy: 0.8351\n",
            "Epoch 5/10\n",
            "469/469 [==============================] - 32s 68ms/step - loss: 0.4522 - accuracy: 0.8336 - val_loss: 0.4446 - val_accuracy: 0.8303\n",
            "Epoch 6/10\n",
            "469/469 [==============================] - 35s 74ms/step - loss: 0.4378 - accuracy: 0.8401 - val_loss: 0.4216 - val_accuracy: 0.8410\n",
            "Epoch 7/10\n",
            "469/469 [==============================] - 32s 68ms/step - loss: 0.4293 - accuracy: 0.8413 - val_loss: 0.4174 - val_accuracy: 0.8478\n",
            "Epoch 8/10\n",
            "469/469 [==============================] - 32s 67ms/step - loss: 0.4199 - accuracy: 0.8441 - val_loss: 0.4137 - val_accuracy: 0.8466\n",
            "Epoch 9/10\n",
            "469/469 [==============================] - 31s 67ms/step - loss: 0.4115 - accuracy: 0.8467 - val_loss: 0.4073 - val_accuracy: 0.8453\n",
            "Epoch 10/10\n",
            "469/469 [==============================] - 32s 68ms/step - loss: 0.4030 - accuracy: 0.8508 - val_loss: 0.3974 - val_accuracy: 0.8517\n"
          ]
        },
        {
          "output_type": "execute_result",
          "data": {
            "text/plain": [
              "<keras.callbacks.History at 0x7f56a0a13d60>"
            ]
          },
          "metadata": {},
          "execution_count": 16
        }
      ],
      "source": [
        "model_bl = Sequential()\n",
        "model_bl.add(Conv2D(32, kernel_size=3, activation='relu', input_shape=(14, 14, 1)))\n",
        "model_bl.add(Conv2D(64, kernel_size=3, activation='relu'))\n",
        "model_bl.add(Dropout(0.5))\n",
        "model_bl.add(Flatten())\n",
        "model_bl.add(Dense(10, activation='softmax'))\n",
        "model_bl.compile(optimizer='adam', loss='categorical_crossentropy', metrics=['accuracy'])\n",
        "model_bl.fit(X_train_bl, Y_train, batch_size=128, epochs=10, verbose=1, validation_data=(X_test_bl, Y_test))"
      ]
    },
    {
      "cell_type": "code",
      "execution_count": null,
      "metadata": {
        "colab": {
          "base_uri": "https://localhost:8080/"
        },
        "id": "Mo7rZAIoD9UO",
        "outputId": "5cecc496-8368-4e51-ff78-07f430183d25"
      },
      "outputs": [
        {
          "output_type": "stream",
          "name": "stdout",
          "text": [
            "Epoch 1/20\n",
            "469/469 [==============================] - 32s 67ms/step - loss: 1.0307 - accuracy: 0.6342 - val_loss: 0.7327 - val_accuracy: 0.7386\n",
            "Epoch 2/20\n",
            "469/469 [==============================] - 34s 73ms/step - loss: 0.7556 - accuracy: 0.7291 - val_loss: 0.6484 - val_accuracy: 0.7723\n",
            "Epoch 3/20\n",
            "469/469 [==============================] - 32s 68ms/step - loss: 0.6994 - accuracy: 0.7475 - val_loss: 0.6182 - val_accuracy: 0.7712\n",
            "Epoch 4/20\n",
            "469/469 [==============================] - 32s 68ms/step - loss: 0.6670 - accuracy: 0.7569 - val_loss: 0.5976 - val_accuracy: 0.7820\n",
            "Epoch 5/20\n",
            "469/469 [==============================] - 32s 67ms/step - loss: 0.6416 - accuracy: 0.7647 - val_loss: 0.5833 - val_accuracy: 0.7869\n",
            "Epoch 6/20\n",
            "469/469 [==============================] - 32s 67ms/step - loss: 0.6240 - accuracy: 0.7711 - val_loss: 0.5620 - val_accuracy: 0.7899\n",
            "Epoch 7/20\n",
            "469/469 [==============================] - 33s 71ms/step - loss: 0.6117 - accuracy: 0.7743 - val_loss: 0.5596 - val_accuracy: 0.7944\n",
            "Epoch 8/20\n",
            "469/469 [==============================] - 32s 68ms/step - loss: 0.5991 - accuracy: 0.7792 - val_loss: 0.5638 - val_accuracy: 0.7910\n",
            "Epoch 9/20\n",
            "469/469 [==============================] - 35s 74ms/step - loss: 0.5919 - accuracy: 0.7811 - val_loss: 0.5530 - val_accuracy: 0.7931\n",
            "Epoch 10/20\n",
            "469/469 [==============================] - 32s 68ms/step - loss: 0.5815 - accuracy: 0.7853 - val_loss: 0.5538 - val_accuracy: 0.7993\n",
            "Epoch 11/20\n",
            "469/469 [==============================] - 32s 68ms/step - loss: 0.5763 - accuracy: 0.7864 - val_loss: 0.5404 - val_accuracy: 0.7968\n",
            "Epoch 12/20\n",
            "469/469 [==============================] - 32s 68ms/step - loss: 0.5670 - accuracy: 0.7885 - val_loss: 0.5371 - val_accuracy: 0.7969\n",
            "Epoch 13/20\n",
            "469/469 [==============================] - 32s 68ms/step - loss: 0.5642 - accuracy: 0.7899 - val_loss: 0.5414 - val_accuracy: 0.7976\n",
            "Epoch 14/20\n",
            "469/469 [==============================] - 32s 68ms/step - loss: 0.5554 - accuracy: 0.7935 - val_loss: 0.5388 - val_accuracy: 0.8013\n",
            "Epoch 15/20\n",
            "469/469 [==============================] - 34s 72ms/step - loss: 0.5547 - accuracy: 0.7937 - val_loss: 0.5281 - val_accuracy: 0.8058\n",
            "Epoch 16/20\n",
            "469/469 [==============================] - 33s 70ms/step - loss: 0.5460 - accuracy: 0.7976 - val_loss: 0.5242 - val_accuracy: 0.8020\n",
            "Epoch 17/20\n",
            "469/469 [==============================] - 32s 68ms/step - loss: 0.5403 - accuracy: 0.7976 - val_loss: 0.5256 - val_accuracy: 0.8035\n",
            "Epoch 18/20\n",
            "469/469 [==============================] - 32s 68ms/step - loss: 0.5378 - accuracy: 0.7988 - val_loss: 0.5281 - val_accuracy: 0.8018\n",
            "Epoch 19/20\n",
            "469/469 [==============================] - 32s 68ms/step - loss: 0.5324 - accuracy: 0.8013 - val_loss: 0.5231 - val_accuracy: 0.8041\n",
            "Epoch 20/20\n",
            "469/469 [==============================] - 33s 71ms/step - loss: 0.5299 - accuracy: 0.8025 - val_loss: 0.5237 - val_accuracy: 0.8052\n"
          ]
        },
        {
          "output_type": "execute_result",
          "data": {
            "text/plain": [
              "<keras.callbacks.History at 0x7f56a08742b0>"
            ]
          },
          "metadata": {},
          "execution_count": 17
        }
      ],
      "source": [
        "model_br = Sequential()\n",
        "model_br.add(Conv2D(32, kernel_size=3, activation='relu', input_shape=(14, 14, 1)))\n",
        "model_br.add(Conv2D(64, kernel_size=3, activation='relu'))\n",
        "model_br.add(Dropout(0.5))\n",
        "model_br.add(Flatten())\n",
        "model_br.add(Dense(10, activation='softmax'))\n",
        "model_br.compile(optimizer='adam', loss='categorical_crossentropy', metrics=['accuracy'])\n",
        "model_br.fit(X_train_br, Y_train, batch_size=128, epochs=20, verbose=1, validation_data=(X_test_br, Y_test))"
      ]
    },
    {
      "cell_type": "code",
      "execution_count": null,
      "metadata": {
        "colab": {
          "base_uri": "https://localhost:8080/"
        },
        "id": "Pcgrjv2aSbuA",
        "outputId": "3fe4af4f-426e-4652-c361-77b06389c95d"
      },
      "outputs": [
        {
          "output_type": "execute_result",
          "data": {
            "text/plain": [
              "True"
            ]
          },
          "metadata": {},
          "execution_count": 18
        }
      ],
      "source": [
        "import cv2\n",
        "image = cv2.imread('test4.png')\n",
        "grey = cv2.cvtColor(image.copy(), cv2.COLOR_BGR2GRAY)\n",
        "r, th = cv2.threshold(grey.copy(), 75, 255, cv2.THRESH_BINARY_INV)\n",
        "resized_digit = cv2.resize(th, (20,20))\n",
        "padded_digit = np.pad(resized_digit, ((4,4),(4,4)), \"constant\", constant_values=0)\n",
        "img=padded_digit.astype('float32')\n",
        "height = img.shape[0]\n",
        "width = img.shape[1]\n",
        "# Cut the image in half\n",
        "w2 = width // 2\n",
        "left = img[:, :w2]\n",
        "right = img[:, w2:]\n",
        "h2 = height//2\n",
        "topleft = left[:h2, :]\n",
        "bottomleft = left[h2:, :]\n",
        "topright = right[:h2, :]\n",
        "bottomright = right[h2:, :]\n",
        "cv2.imwrite(\"tl.jpg\", topleft)\n",
        "cv2.imwrite(\"tr.jpg\", topright)\n",
        "cv2.imwrite(\"bl.jpg\", bottomleft)\n",
        "cv2.imwrite(\"br.jpg\", bottomright)"
      ]
    },
    {
      "cell_type": "code",
      "execution_count": null,
      "metadata": {
        "colab": {
          "base_uri": "https://localhost:8080/"
        },
        "id": "-vDE6NIvOGfI",
        "outputId": "58e0e575-bdeb-49da-91ed-16cca6ea13fc"
      },
      "outputs": [
        {
          "output_type": "stream",
          "name": "stdout",
          "text": [
            "1/1 [==============================] - 0s 110ms/step\n",
            "[[3.2171610e-07 5.2489901e-05 6.6136470e-04 6.5389560e-03 1.3430109e-06\n",
            "  3.6543205e-01 1.5110335e-10 6.2589562e-01 7.4344833e-04 6.7443529e-04]]\n",
            "\n",
            "Predicted Output: 7\n"
          ]
        }
      ],
      "source": [
        "image = topleft.reshape(1, 14, 14, 1)\n",
        "image /= 255\n",
        "pred_tl=model_tl.predict(image)\n",
        "print(pred_tl)\n",
        "print(\"\\nPredicted Output: {}\".format(np.argmax(pred_tl)))"
      ]
    },
    {
      "cell_type": "code",
      "execution_count": null,
      "metadata": {
        "colab": {
          "base_uri": "https://localhost:8080/"
        },
        "id": "r3BPAzHrUkzb",
        "outputId": "eaa6dffb-fa14-4b20-d160-80c03f57a12e"
      },
      "outputs": [
        {
          "output_type": "stream",
          "name": "stdout",
          "text": [
            "1/1 [==============================] - 0s 54ms/step\n",
            "[[1.3118080e-07 4.0910206e-07 5.2268520e-06 7.9151920e-05 3.1541076e-05\n",
            "  8.7452918e-01 1.1288224e-03 7.5412639e-03 3.0034087e-03 1.1368087e-01]]\n",
            "\n",
            "Predicted Output: 5\n"
          ]
        }
      ],
      "source": [
        "image = topright.reshape(1, 14, 14, 1)\n",
        "image /= 255\n",
        "pred_tr=model_tr.predict(image)\n",
        "print(pred_tr)\n",
        "print(\"\\nPredicted Output: {}\".format(np.argmax(pred_tr)))"
      ]
    },
    {
      "cell_type": "code",
      "execution_count": null,
      "metadata": {
        "colab": {
          "base_uri": "https://localhost:8080/"
        },
        "id": "FyzQQL33Urb5",
        "outputId": "68a2e80a-e1f4-4d92-d69d-5c740ab9776d"
      },
      "outputs": [
        {
          "output_type": "stream",
          "name": "stdout",
          "text": [
            "1/1 [==============================] - 0s 59ms/step\n",
            "[[1.36860663e-05 3.10949818e-03 2.90824976e-02 1.24514006e-01\n",
            "  9.06897913e-05 8.13858092e-01 7.66645418e-04 1.56615600e-02\n",
            "  1.83838260e-04 1.27195278e-02]]\n",
            "\n",
            "Predicted Output: 5\n"
          ]
        }
      ],
      "source": [
        "image = bottomleft.reshape(1, 14, 14, 1)\n",
        "image /= 255\n",
        "pred_bl=model_bl.predict(image)\n",
        "print(pred_bl)\n",
        "print(\"\\nPredicted Output: {}\".format(np.argmax(pred_bl)))"
      ]
    },
    {
      "cell_type": "code",
      "execution_count": null,
      "metadata": {
        "colab": {
          "base_uri": "https://localhost:8080/"
        },
        "id": "wsR2nIqZUzvj",
        "outputId": "4959d682-0717-405e-f00d-00c73ab2d9f7"
      },
      "outputs": [
        {
          "output_type": "stream",
          "name": "stdout",
          "text": [
            "1/1 [==============================] - 0s 60ms/step\n",
            "[[2.47368719e-02 2.06526820e-05 1.07148951e-02 7.10015595e-02\n",
            "  1.42049772e-04 7.89360404e-01 1.02775745e-01 9.15354874e-04\n",
            "  3.19823419e-04 1.26412242e-05]]\n",
            "\n",
            "Predicted Output: 5\n"
          ]
        }
      ],
      "source": [
        "image = bottomright.reshape(1, 14, 14, 1)\n",
        "image /= 255\n",
        "pred_br=model_br.predict(image)\n",
        "print(pred_br)\n",
        "print(\"\\nPredicted Output: {}\".format(np.argmax(pred_br)))"
      ]
    },
    {
      "cell_type": "code",
      "execution_count": null,
      "metadata": {
        "colab": {
          "base_uri": "https://localhost:8080/"
        },
        "id": "gFqkZRVanFbm",
        "outputId": "f7774fba-fcdc-4287-ce8d-78a6b667b18a"
      },
      "outputs": [
        {
          "output_type": "stream",
          "name": "stdout",
          "text": [
            "\n",
            "Predicted Output: 5\n"
          ]
        }
      ],
      "source": [
        "pred=(pred_tl*pred_tr*pred_bl*pred_br)**(1/4)\n",
        "print(\"\\nPredicted Output: {}\".format(np.argmax(pred)))"
      ]
    },
    {
      "cell_type": "code",
      "execution_count": null,
      "metadata": {
        "colab": {
          "base_uri": "https://localhost:8080/"
        },
        "id": "3QOgDurs7Unl",
        "outputId": "8776214b-09ca-4a86-8114-33f2361ecfd2"
      },
      "outputs": [
        {
          "output_type": "execute_result",
          "data": {
            "text/plain": [
              "array([[1.0933058e-05, 3.4268378e-05, 1.0187678e-03, 8.2245851e-03,\n",
              "        2.7179331e-05, 6.7313355e-01, 6.0547503e-05, 1.6128451e-02,\n",
              "        6.0193951e-04, 1.8737945e-03]], dtype=float32)"
            ]
          },
          "metadata": {},
          "execution_count": 24
        }
      ],
      "source": [
        "pred"
      ]
    },
    {
      "cell_type": "code",
      "execution_count": null,
      "metadata": {
        "colab": {
          "base_uri": "https://localhost:8080/",
          "height": 301
        },
        "id": "YabRsOZRRE01",
        "outputId": "d67bfd24-5712-4b78-d638-354d89ec2f20"
      },
      "outputs": [
        {
          "output_type": "display_data",
          "data": {
            "text/plain": [
              "<Figure size 432x288 with 1 Axes>"
            ],
            "image/png": "[encoded data removed]"
          },
          "metadata": {
            "needs_background": "light"
          }
        },
        {
          "output_type": "stream",
          "name": "stdout",
          "text": [
            "\n",
            "Predicted Output: 5\n"
          ]
        }
      ],
      "source": [
        "plt.imshow(topleft, cmap=\"binary\")\n",
        "plt.show()\n",
        "print(\"\\nPredicted Output: {}\".format(np.argmax(pred)))"
      ]
    },
    {
      "cell_type": "code",
      "execution_count": null,
      "metadata": {
        "id": "oz-R6nal7trX"
      },
      "outputs": [],
      "source": [
        "keras_file1='model_tl.h5'\n",
        "keras_file2='model_tr.h5'\n",
        "keras_file3='model_bl.h5'\n",
        "keras_file4='model_br.h5'\n",
        "tf.keras.models.save_model(model_tl,keras_file1)\n",
        "tf.keras.models.save_model(model_tr,keras_file2)\n",
        "tf.keras.models.save_model(model_bl,keras_file3)\n",
        "tf.keras.models.save_model(model_br,keras_file4)"
      ]
    },
    {
      "cell_type": "code",
      "execution_count": null,
      "metadata": {
        "id": "Op_pzJMs7RL7",
        "colab": {
          "base_uri": "https://localhost:8080/"
        },
        "outputId": "61f62bee-44c3-4063-80d3-69d4358d027e"
      },
      "outputs": [
        {
          "output_type": "stream",
          "name": "stderr",
          "text": [
            "WARNING:absl:Found untraced functions such as _jit_compiled_convolution_op, _jit_compiled_convolution_op while saving (showing 2 of 2). These functions will not be directly callable after loading.\n",
            "WARNING:absl:Found untraced functions such as _jit_compiled_convolution_op, _jit_compiled_convolution_op while saving (showing 2 of 2). These functions will not be directly callable after loading.\n",
            "WARNING:absl:Found untraced functions such as _jit_compiled_convolution_op, _jit_compiled_convolution_op while saving (showing 2 of 2). These functions will not be directly callable after loading.\n",
            "WARNING:absl:Found untraced functions such as _jit_compiled_convolution_op, _jit_compiled_convolution_op while saving (showing 2 of 2). These functions will not be directly callable after loading.\n"
          ]
        }
      ],
      "source": [
        "converter = tf.lite.TFLiteConverter.from_keras_model(model_tl)\n",
        "tflite_model = converter.convert()\n",
        "with open('model_tl.tflite', 'wb') as f:\n",
        "  f.write(tflite_model)\n",
        "converter = tf.lite.TFLiteConverter.from_keras_model(model_tr)\n",
        "tflite_model = converter.convert()\n",
        "with open('model_tr.tflite', 'wb') as f:\n",
        "  f.write(tflite_model)\n",
        "converter = tf.lite.TFLiteConverter.from_keras_model(model_bl)\n",
        "tflite_model = converter.convert()\n",
        "with open('model_bl.tflite', 'wb') as f:\n",
        "  f.write(tflite_model)\n",
        "converter = tf.lite.TFLiteConverter.from_keras_model(model_br)\n",
        "tflite_model = converter.convert()\n",
        "with open('model_br.tflite', 'wb') as f:\n",
        "  f.write(tflite_model)"
      ]
    },
    {
      "cell_type": "code",
      "execution_count": null,
      "metadata": {
        "id": "V1NIdvzhRSfc"
      },
      "outputs": [],
      "source": [
        "model_json = model.to_json()\n",
        "with open(\"model.json\", \"w\") as json_file:\n",
        "    json_file.write(model_json)\n",
        "model.save_weights(\"model.h5\")"
      ]
    },
    {
      "cell_type": "code",
      "execution_count": null,
      "metadata": {
        "id": "FUoMEm-jS3kR"
      },
      "outputs": [],
      "source": []
    }
  ],
  "metadata": {
    "colab": {
      "provenance": []
    },
    "gpuClass": "standard",
    "kernelspec": {
      "display_name": "Python 3",
      "name": "python3"
    },
    "language_info": {
      "name": "python"
    }
  },
  "nbformat": 4,
  "nbformat_minor": 0
}